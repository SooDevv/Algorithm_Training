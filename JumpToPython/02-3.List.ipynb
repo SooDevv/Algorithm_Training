{
 "cells": [
  {
   "cell_type": "markdown",
   "metadata": {},
   "source": [
    "### 1. 리스트 조인\n",
    "- ['Life', 'is', 'too', 'short'] 라는 리스트를 Life is too short라는 문자열로 만들어 출력해 보자."
   ]
  },
  {
   "cell_type": "code",
   "execution_count": 4,
   "metadata": {},
   "outputs": [
    {
     "data": {
      "text/plain": [
       "'Life is too short'"
      ]
     },
     "execution_count": 4,
     "metadata": {},
     "output_type": "execute_result"
    }
   ],
   "source": [
    "a = ['Life', 'is', 'too', 'short']\n",
    "\n",
    "sep = \" \"\n",
    "sep.join(a)"
   ]
  },
  {
   "cell_type": "markdown",
   "metadata": {},
   "source": [
    "### 2. 리스트의 갯수\n",
    "- a = [1, 2, 3] 이 리스트의 갯수(사이즈)를 구하시오."
   ]
  },
  {
   "cell_type": "code",
   "execution_count": 7,
   "metadata": {},
   "outputs": [
    {
     "data": {
      "text/plain": [
       "3"
      ]
     },
     "execution_count": 7,
     "metadata": {},
     "output_type": "execute_result"
    }
   ],
   "source": [
    "a = [1, 2, 3]\n",
    "len(a)"
   ]
  },
  {
   "cell_type": "markdown",
   "metadata": {},
   "source": [
    "### 3. 리스트의 append와 extend\n",
    "- a = [1, 2, 3] 리스트 a에 [4, 5]를 append 했을 때와 extend했을 때의 차이점은 무엇인가?"
   ]
  },
  {
   "cell_type": "code",
   "execution_count": 32,
   "metadata": {},
   "outputs": [
    {
     "name": "stdout",
     "output_type": "stream",
     "text": [
      "[4, 5]\n"
     ]
    }
   ],
   "source": [
    "##append : 리스트 형 자체를 하나의 인덱스로 삽입\n",
    "a = [1, 2, 3]\n",
    "\n",
    "a.append([4, 5]) \n",
    "a \n",
    "## [1, 2, 3, [4, 5]]\n",
    "\n",
    "print(a[3]) "
   ]
  },
  {
   "cell_type": "code",
   "execution_count": 33,
   "metadata": {},
   "outputs": [
    {
     "name": "stdout",
     "output_type": "stream",
     "text": [
      "4\n"
     ]
    }
   ],
   "source": [
    "## extend : 리스트형만 들어가야함 . 원래 리스트에 추가한 리스트를 더함\n",
    "a = [1, 2, 3]\n",
    "a.extend([4, 5]) \n",
    "a\n",
    "## [1, 2, 3, 4, 5]\n",
    "\n",
    "print(a[3])"
   ]
  },
  {
   "cell_type": "markdown",
   "metadata": {},
   "source": [
    "### 4. 리스트 삭제\n",
    "- [1, 2, 3, 4, 5]라는 리스트를 [1, 3, 5]로 만들어 보자."
   ]
  },
  {
   "cell_type": "code",
   "execution_count": 40,
   "metadata": {},
   "outputs": [
    {
     "data": {
      "text/plain": [
       "[1, 3]"
      ]
     },
     "execution_count": 40,
     "metadata": {},
     "output_type": "execute_result"
    }
   ],
   "source": [
    "input = [1, 2, 3, 4, 5]\n",
    "input.remove(2)\n",
    "input ##[1, 3, 4, 5]\n",
    "\n",
    "del input[2]\n",
    "input ##[1, 3, 5]\n",
    "\n",
    "input.pop(2)\n",
    "input ##[1, 3]"
   ]
  }
 ],
 "metadata": {
  "kernelspec": {
   "display_name": "Python 3",
   "language": "python",
   "name": "python3"
  },
  "language_info": {
   "codemirror_mode": {
    "name": "ipython",
    "version": 3
   },
   "file_extension": ".py",
   "mimetype": "text/x-python",
   "name": "python",
   "nbconvert_exporter": "python",
   "pygments_lexer": "ipython3",
   "version": "3.6.4"
  }
 },
 "nbformat": 4,
 "nbformat_minor": 2
}
