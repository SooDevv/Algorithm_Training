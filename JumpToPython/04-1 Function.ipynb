{
 "cells": [
  {
   "cell_type": "markdown",
   "metadata": {
    "collapsed": true
   },
   "source": [
    "## N1. 홀수 짝수 판별\n",
    "> 주어진 자연수가 홀수인지 짝수인지 판별해 주는 함수(is_odd) 작성"
   ]
  },
  {
   "cell_type": "code",
   "execution_count": 2,
   "metadata": {},
   "outputs": [
    {
     "data": {
      "text/plain": [
       "'odd'"
      ]
     },
     "execution_count": 2,
     "metadata": {},
     "output_type": "execute_result"
    }
   ],
   "source": [
    "def is_odd(a):\n",
    "    b = 'even' if a % 2 ==0 else 'odd'\n",
    "    return b\n",
    "\n",
    "is_odd(3)"
   ]
  },
  {
   "cell_type": "markdown",
   "metadata": {},
   "source": [
    "## N2. 평균값 계산\n",
    "> 입력으로 들어오는 모든 수의 평균값을 계산해 주는 함수를 작성하나 입력으로 들어오는 갯수는 정해져 있지 않다."
   ]
  },
  {
   "cell_type": "code",
   "execution_count": 3,
   "metadata": {},
   "outputs": [
    {
     "data": {
      "text/plain": [
       "3.0"
      ]
     },
     "execution_count": 3,
     "metadata": {},
     "output_type": "execute_result"
    }
   ],
   "source": [
    "def mean(*args):\n",
    "    total = 0\n",
    "    for i in args:\n",
    "        total += i\n",
    "    return total / len(args)\n",
    "\n",
    "mean(1, 2, 3, 4, 5)"
   ]
  },
  {
   "cell_type": "markdown",
   "metadata": {},
   "source": [
    "## N3. 구구단 출력\n",
    "> 입력을 자연수 n(2~9)의 자연수로 받았을 때, n 에 해당되는 구구단을 출력하는 함수"
   ]
  },
  {
   "cell_type": "code",
   "execution_count": 13,
   "metadata": {},
   "outputs": [
    {
     "name": "stdout",
     "output_type": "stream",
     "text": [
      "9 * 1 = 9\n",
      "9 * 2 = 18\n",
      "9 * 3 = 27\n",
      "9 * 4 = 36\n",
      "9 * 5 = 45\n",
      "9 * 6 = 54\n",
      "9 * 7 = 63\n",
      "9 * 8 = 72\n",
      "9 * 9 = 81\n",
      "------------\n",
      "2 * 1 = 2\n",
      "2 * 2 = 4\n",
      "2 * 3 = 6\n",
      "2 * 4 = 8\n",
      "2 * 5 = 10\n",
      "2 * 6 = 12\n",
      "2 * 7 = 14\n",
      "2 * 8 = 16\n",
      "2 * 9 = 18\n"
     ]
    }
   ],
   "source": [
    "def gugu(n):\n",
    "    if n in range(2,10):\n",
    "        for i in range(1,10):\n",
    "            print('%d * %d ='%(n, i), n*i)\n",
    "\n",
    "gugu(1)            \n",
    "gugu(9)\n",
    "print('------------')\n",
    "gugu(11)\n",
    "gugu(2)"
   ]
  },
  {
   "cell_type": "markdown",
   "metadata": {},
   "source": [
    "## N4. Fibonacci\n",
    "- fib(0) → 0 리턴\n",
    "- fib(1) → 1 리턴\n",
    "- fib(2) → fib(0) + fib(1) → 0 + 1 → 1 리턴\n",
    "- fib(3) → fib(1) + fib(2) → 1 + 1 → 2 리턴\n",
    "- fib(4) → fib(2) + fib(3) → 1 + 2 → 3 리턴"
   ]
  },
  {
   "cell_type": "code",
   "execution_count": 16,
   "metadata": {},
   "outputs": [
    {
     "data": {
      "text/plain": [
       "34"
      ]
     },
     "execution_count": 16,
     "metadata": {},
     "output_type": "execute_result"
    }
   ],
   "source": [
    "def fibonacci(n):\n",
    "    if n == 0: return 0\n",
    "    if n == 1: return 1\n",
    "    return fibonacci(n-2) + fibonacci(n-1)\n",
    "\n",
    "fibonacci(9)"
   ]
  },
  {
   "cell_type": "markdown",
   "metadata": {},
   "source": [
    "## N5. greater than 5\n",
    "> from function to lambda\n",
    "- lambda 매개변수, 매개변수 : 매개변수를 이용한 표현식\n",
    "\n",
    "- def myfunc(numbers):\n",
    "\n",
    "     result = []\n",
    "     for number in numbers:\n",
    "        if number > 5:\n",
    "         result.append(number)  \n",
    "     return result\n",
    " \n",
    " - myfunc([2,3,4,5,6,7,8])\n",
    "- [6, 7, 8]"
   ]
  },
  {
   "cell_type": "code",
   "execution_count": 17,
   "metadata": {},
   "outputs": [
    {
     "data": {
      "text/plain": [
       "[6, 7, 8]"
      ]
     },
     "execution_count": 17,
     "metadata": {},
     "output_type": "execute_result"
    }
   ],
   "source": [
    "myfunc = lambda numbers : [number for number in numbers if number > 5]\n",
    "\n",
    "myfunc([2, 3, 4, 5, 6, 7, 8])"
   ]
  },
  {
   "cell_type": "markdown",
   "metadata": {},
   "source": [
    "## 여러 개의 입력값을 받는 함수\n",
    "> *args , **kwargs"
   ]
  },
  {
   "cell_type": "code",
   "execution_count": 21,
   "metadata": {},
   "outputs": [
    {
     "data": {
      "text/plain": [
       "8"
      ]
     },
     "execution_count": 21,
     "metadata": {},
     "output_type": "execute_result"
    }
   ],
   "source": [
    "def sum_mul(choice, *args):\n",
    "    if choice == 'sum':\n",
    "        result = 0\n",
    "        for i in args:\n",
    "            result += i\n",
    "    elif choice == 'mul':\n",
    "        result = 1\n",
    "        for i in args:\n",
    "            result *= i\n",
    "    return result\n",
    "\n",
    "sum_mul('mul', 2,4)"
   ]
  },
  {
   "cell_type": "code",
   "execution_count": 23,
   "metadata": {},
   "outputs": [
    {
     "name": "stdout",
     "output_type": "stream",
     "text": [
      "(1, 2, 3)\n",
      "{'name': 'soo', 'age': 5}\n"
     ]
    }
   ],
   "source": [
    "def func(*args, **kwargs):\n",
    "    print(args)\n",
    "    print(kwargs)\n",
    "    \n",
    "func(1, 2, 3, name =\"soo\", age =5)"
   ]
  },
  {
   "cell_type": "code",
   "execution_count": 25,
   "metadata": {},
   "outputs": [
    {
     "ename": "SyntaxError",
     "evalue": "positional argument follows keyword argument (<ipython-input-25-c0bfc7dc59be>, line 1)",
     "output_type": "error",
     "traceback": [
      "\u001b[1;36m  File \u001b[1;32m\"<ipython-input-25-c0bfc7dc59be>\"\u001b[1;36m, line \u001b[1;32m1\u001b[0m\n\u001b[1;33m    func(1, 3, 5, name='jung', age=3, 4, 5)\u001b[0m\n\u001b[1;37m                                     ^\u001b[0m\n\u001b[1;31mSyntaxError\u001b[0m\u001b[1;31m:\u001b[0m positional argument follows keyword argument\n"
     ]
    }
   ],
   "source": [
    "func(1, 3, 5, name='jung', age=3, 4, 5)\n",
    "\n",
    "## 키워드 형태의 인수뒤에 키워드 형태가 아닌 인수는 올 수 없다 "
   ]
  },
  {
   "cell_type": "markdown",
   "metadata": {},
   "source": [
    "## 매개변수 초깃값 설정 "
   ]
  },
  {
   "cell_type": "code",
   "execution_count": 29,
   "metadata": {},
   "outputs": [],
   "source": [
    "def intro_myself(name, age, woman = True):\n",
    "    print('내이름은 %s 이야'% name)\n",
    "    print('나이는 %d'% age)\n",
    "    if woman:\n",
    "        print('female 이야')\n",
    "    else:\n",
    "        print('male 이야')"
   ]
  },
  {
   "cell_type": "code",
   "execution_count": 30,
   "metadata": {},
   "outputs": [
    {
     "name": "stdout",
     "output_type": "stream",
     "text": [
      "내이름은 soo 이야\n",
      "나이는 22\n",
      "female 이야\n"
     ]
    }
   ],
   "source": [
    "intro_myself('soo', 22)"
   ]
  },
  {
   "cell_type": "code",
   "execution_count": 31,
   "metadata": {},
   "outputs": [
    {
     "name": "stdout",
     "output_type": "stream",
     "text": [
      "내이름은 jung 이야\n",
      "나이는 4\n",
      "male 이야\n"
     ]
    }
   ],
   "source": [
    "intro_myself('jung', 4, False)"
   ]
  },
  {
   "cell_type": "code",
   "execution_count": 36,
   "metadata": {},
   "outputs": [
    {
     "ename": "SyntaxError",
     "evalue": "non-default argument follows default argument (<ipython-input-36-ffd44e0b3244>, line 1)",
     "output_type": "error",
     "traceback": [
      "\u001b[1;36m  File \u001b[1;32m\"<ipython-input-36-ffd44e0b3244>\"\u001b[1;36m, line \u001b[1;32m1\u001b[0m\n\u001b[1;33m    def intro_myself(name, woman = True, age):\u001b[0m\n\u001b[1;37m                    ^\u001b[0m\n\u001b[1;31mSyntaxError\u001b[0m\u001b[1;31m:\u001b[0m non-default argument follows default argument\n"
     ]
    }
   ],
   "source": [
    "def intro_myself(name, woman = True, age):\n",
    "    print('내이름은 %s 이야'% name)\n",
    "    print('나이는 %d'% age)\n",
    "    if woman:\n",
    "        print('female 이야')\n",
    "    else:\n",
    "        print('male 이야')"
   ]
  },
  {
   "cell_type": "markdown",
   "metadata": {},
   "source": [
    "#### non-default argument follows default argument Error\n",
    "> 초깃값을 설정해 놓은 매개변수 뒤에 초깃값을 설정해 놓지 않은 매개변수는 사용 x\n",
    "- 반드시, (name, age, woman =True)\n",
    "- not (woman = True, age, name)"
   ]
  },
  {
   "cell_type": "code",
   "execution_count": null,
   "metadata": {},
   "outputs": [],
   "source": []
  }
 ],
 "metadata": {
  "kernelspec": {
   "display_name": "Python 3",
   "language": "python",
   "name": "python3"
  },
  "language_info": {
   "codemirror_mode": {
    "name": "ipython",
    "version": 3
   },
   "file_extension": ".py",
   "mimetype": "text/x-python",
   "name": "python",
   "nbconvert_exporter": "python",
   "pygments_lexer": "ipython3",
   "version": "3.6.5"
  }
 },
 "nbformat": 4,
 "nbformat_minor": 1
}
