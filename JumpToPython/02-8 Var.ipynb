{
 "cells": [
  {
   "cell_type": "markdown",
   "metadata": {},
   "source": [
    "### 1. 변수와 객체1"
   ]
  },
  {
   "cell_type": "code",
   "execution_count": 4,
   "metadata": {},
   "outputs": [
    {
     "name": "stdout",
     "output_type": "stream",
     "text": [
      "False\n",
      "id(a) : 1640210302024\n",
      "id(b) : 1640210304392\n"
     ]
    }
   ],
   "source": [
    "a = [1, 2, 3]\n",
    "b = [1, 2, 3]\n",
    "print(a is b )#f\n",
    "print(\"id(a) :\",id(a))\n",
    "print(\"id(b) :\",id(b))"
   ]
  },
  {
   "cell_type": "markdown",
   "metadata": {},
   "source": [
    "### 2. 변수와 객체2"
   ]
  },
  {
   "cell_type": "code",
   "execution_count": 5,
   "metadata": {},
   "outputs": [
    {
     "name": "stdout",
     "output_type": "stream",
     "text": [
      "True\n",
      "id(a) : 1640210301256\n",
      "id(b) : 1640210301256\n"
     ]
    }
   ],
   "source": [
    "a = [1, 2, 3]\n",
    "b = a \n",
    "print(a is b) #t\n",
    "print(\"id(a) :\",id(a))\n",
    "print(\"id(b) :\",id(b))"
   ]
  },
  {
   "cell_type": "markdown",
   "metadata": {},
   "source": [
    "### 3. 객체의 변경\n",
    "- 파이썬은 다음처럼 동일한 값에 여러 개의 변수를 선언할 수 있다. 아래와 같이 a, b 변수를 선언 한 후 a의 첫 번째 요소값을 변경하면 b의 값은 어떻게 될까? 그리고 이런 결과가 나오는 이유에 대해서 설명해 보자."
   ]
  },
  {
   "cell_type": "code",
   "execution_count": 7,
   "metadata": {},
   "outputs": [
    {
     "name": "stdout",
     "output_type": "stream",
     "text": [
      "[1, 4, 3]\n",
      "id(a) : 1640210303944\n",
      "id(b) : 1640210303944\n"
     ]
    }
   ],
   "source": [
    "a = b = [1, 2, 3]\n",
    "a[1] = 4\n",
    "print(b)\n",
    "\n",
    "## 두 객체가 같은 리스트가 저장된 메모리의 주소를 가지고 있기 때문에 \n",
    "print(\"id(a) :\",id(a))\n",
    "print(\"id(b) :\",id(b))"
   ]
  },
  {
   "cell_type": "markdown",
   "metadata": {},
   "source": [
    "### 4. 리스트 복사1"
   ]
  },
  {
   "cell_type": "code",
   "execution_count": 9,
   "metadata": {},
   "outputs": [
    {
     "name": "stdout",
     "output_type": "stream",
     "text": [
      "False\n",
      "True\n"
     ]
    }
   ],
   "source": [
    "a = [1, 2, 3]\n",
    "b = a[:]\n",
    "print(a is b) #f\n",
    "\n",
    "b = a\n",
    "print(a is b) #t"
   ]
  },
  {
   "cell_type": "markdown",
   "metadata": {},
   "source": [
    "### 5.  리스트의 더하기와 extend\n",
    "- + 기호를 이용하여 더한것과 extend한 것의 차이점이 있을까? 있다면 그 차이점에 대해서 얘기해 보자.\n",
    "- + : 원래 객체 a 에 리스트를 더 해서 두 리스트가 더해진 새로운 리스트\n",
    "- extend : 원래 객체 a 를 확장하여 "
   ]
  },
  {
   "cell_type": "code",
   "execution_count": 18,
   "metadata": {},
   "outputs": [
    {
     "name": "stdout",
     "output_type": "stream",
     "text": [
      "[1, 2, 3, 4, 5]\n",
      "id(a) : 1640210417928\n",
      "id(b) : 1640192983944\n"
     ]
    }
   ],
   "source": [
    "a = [1, 2, 3]\n",
    "b = a + [4,5]\n",
    "print(b)\n",
    "print(\"id(a) :\",id(a))\n",
    "print(\"id(b) :\",id(b))"
   ]
  },
  {
   "cell_type": "code",
   "execution_count": 26,
   "metadata": {},
   "outputs": [
    {
     "name": "stdout",
     "output_type": "stream",
     "text": [
      "original a:  1640192983944\n",
      "extend a: 1640192983944\n"
     ]
    }
   ],
   "source": [
    "a = [1, 2, 3] # id = 1640192983944\n",
    "print('original a: ',id(a))\n",
    "a.extend([4,5]) # id = 1640192983944\n",
    "a\n",
    "print('extend a:',id(a))\n",
    "\n",
    "## a.extend 한 것은 b 객체 넣으면 b 의 id 는 a 와 다름 "
   ]
  },
  {
   "cell_type": "markdown",
   "metadata": {},
   "source": [
    "### 6. 리스트 복사2 - shallow copy\n",
    "- [:] 와 같이 copy 하는 것은 shallow copy 즉, 얕은 copy라고 1 depth까지 copy 해주지만, 리스트가 포함되고있는 2depth 이상의 리스트트 copy해주지 못한다. "
   ]
  },
  {
   "cell_type": "code",
   "execution_count": 29,
   "metadata": {},
   "outputs": [
    {
     "name": "stdout",
     "output_type": "stream",
     "text": [
      "[1, [5, 3], 4]\n"
     ]
    }
   ],
   "source": [
    "a = [1, [2, 3], 4]\n",
    "b = a[:] ##[1, [2, 3], 4]\n",
    "\n",
    "a[1][0] = 5\n",
    "a[2] = 3\n",
    "a\n",
    "print(b)"
   ]
  },
  {
   "cell_type": "markdown",
   "metadata": {},
   "source": [
    "### 7. 리스트 복사3 - deepcopy\n",
    "- from copy import deepcopy"
   ]
  },
  {
   "cell_type": "code",
   "execution_count": 31,
   "metadata": {},
   "outputs": [
    {
     "name": "stdout",
     "output_type": "stream",
     "text": [
      "[1, [2, 3], 4]\n"
     ]
    }
   ],
   "source": [
    "from copy import deepcopy\n",
    "a = [1, [2, 3], 4]\n",
    "b = deepcopy(a)\n",
    "\n",
    "a[1][0] = 5\n",
    "a[2] = 3\n",
    "\n",
    "print(b)"
   ]
  }
 ],
 "metadata": {
  "kernelspec": {
   "display_name": "Python 3",
   "language": "python",
   "name": "python3"
  },
  "language_info": {
   "codemirror_mode": {
    "name": "ipython",
    "version": 3
   },
   "file_extension": ".py",
   "mimetype": "text/x-python",
   "name": "python",
   "nbconvert_exporter": "python",
   "pygments_lexer": "ipython3",
   "version": "3.6.4"
  }
 },
 "nbformat": 4,
 "nbformat_minor": 2
}
