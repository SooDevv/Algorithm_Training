{
 "cells": [
  {
   "cell_type": "markdown",
   "metadata": {},
   "source": [
    "# 김수정"
   ]
  },
  {
   "cell_type": "markdown",
   "metadata": {},
   "source": [
    "### N105 : Reverse Order\n",
    "> Write a program that reads integers from the user and stores them in a list. Use 0 as\n",
    "a sentinel value to mark the end of the input. Once all of the values have been read\n",
    "your program should display them (except for the 0) in reverse order, with one value\n",
    "appearing on each line.\n",
    "\n",
    "- int 받고 list 로 뿌려줌\n",
    "- 0은 입력의 끝을 의미, 0 빼고 거꾸로 한줄씩 출력"
   ]
  },
  {
   "cell_type": "code",
   "execution_count": 64,
   "metadata": {},
   "outputs": [
    {
     "name": "stdout",
     "output_type": "stream",
     "text": [
      "input : 123045400\n",
      "output : 3\n",
      "output : 2\n",
      "output : 1\n"
     ]
    }
   ],
   "source": [
    "#step1: 숫자 입력 받고, 리스트로 거꾸로 출력\n",
    "n = int(input(\"input : \"))\n",
    "\n",
    "n_list = list(str(n))\n",
    "# print(n_list)\n",
    "\n",
    "##reverse \n",
    "# r_list = list(n_list.reverse()) # 내부적으로 바꿈\n",
    "# r_list = list(reversed(n_list)) # 바꾼거 보여줌 \n",
    "# print(r_list)\n",
    "\n",
    "if '0' in n_list:\n",
    "    idx = n_list.index('0')\n",
    "#     print(idx)\n",
    "\n",
    "result = []\n",
    "for i in range(idx):\n",
    "    result.append(n_list[i]) \n",
    "#print(result)\n",
    "\n",
    "r_list = list(reversed(result))\n",
    "# print(r_list)\n",
    "\n",
    "for i in r_list:\n",
    "    print('output :',i)\n",
    "\n"
   ]
  },
  {
   "cell_type": "markdown",
   "metadata": {},
   "source": [
    "- dir(list)\n",
    "- int.to_bytes()\n",
    "- int.__sizeof__\n",
    "- dir(list)"
   ]
  },
  {
   "cell_type": "markdown",
   "metadata": {},
   "source": [
    "---"
   ]
  },
  {
   "cell_type": "markdown",
   "metadata": {},
   "source": [
    "## N 107 : Avoiding Duplicates  \n",
    "> In this exercise, you will create a program that reads words from the user until the\n",
    "user enters a blank line. After the user enters a blank line your program should display\n",
    "each word entered by the user exactly once. The words should be displayed in\n",
    "the same order that they were entered. For example, if the user enters:\n",
    "\n",
    "- input : str \n",
    "- output : str \n",
    "- enter 칠때마다 user 입력값 출력 + 중복되는 str 없게 출력"
   ]
  },
  {
   "cell_type": "code",
   "execution_count": 4,
   "metadata": {},
   "outputs": [
    {
     "name": "stdout",
     "output_type": "stream",
     "text": [
      "kk\n",
      "kk\n",
      "aa\n",
      "aa\n",
      "jj\n",
      "jj\n",
      "kk\n"
     ]
    }
   ],
   "source": [
    "s = input()\n",
    "\n",
    "s_set = set() ## 중복되는 값 없게 체크하는 set\n",
    "\n",
    "while True:\n",
    "#     if(s == 'hi'):\n",
    "#         break\n",
    "    if s in s_set:\n",
    "        break\n",
    "    print(s)\n",
    "    s_set.add(s)\n",
    "    s = input()\n",
    "  \n",
    "    \n",
    "# print(s_set)\n",
    " "
   ]
  },
  {
   "cell_type": "markdown",
   "metadata": {},
   "source": [
    "---"
   ]
  },
  {
   "cell_type": "markdown",
   "metadata": {},
   "source": [
    "## N108 : Negatives, Zeros and Positives\n",
    "> Create a program that reads integers from the user until a blank line is entered. Once\n",
    "all of the integers have been read your program should display all of the negative\n",
    "numbers, followed by all of the zeros, followed by all of the positive numbers.Within\n",
    "each group the numbers should be displayed in the same order that they were entered by the user. For example, if the user enters the values 3, -4, 1, 0, -1, 0, and -2 then\n",
    "your program should output the values -4, -1, -2, 0, 0, 3, and 1. Your program\n",
    "should display each value on its own line.\n",
    "\n",
    "- input : int \n",
    "- 입력값을 list로 받고 각각 N, O, P 의 리스트로 넣어준다. \n",
    "- output 은 N + O + P"
   ]
  },
  {
   "cell_type": "code",
   "execution_count": null,
   "metadata": {},
   "outputs": [],
   "source": []
  },
  {
   "cell_type": "code",
   "execution_count": 16,
   "metadata": {},
   "outputs": [
    {
     "name": "stdout",
     "output_type": "stream",
     "text": [
      "3, -4, 1, 0, -1, 0, -2\n",
      "output :  -4, -1, -2, 0, 0,3, 1\n"
     ]
    }
   ],
   "source": [
    "n = list(input().split(','))\n",
    "N = []\n",
    "O = []\n",
    "P = []\n",
    "\n",
    "# print(n)\n",
    "# type(n)\n",
    "for i in n:\n",
    "    if int(i) < 0:\n",
    "        N.append(i)\n",
    "    elif int(i) == 0:\n",
    "        O.append(i)\n",
    "    else:\n",
    "        P.append(i)\n",
    "\n",
    "result = N + O + P\n",
    "print('output :', ','.join(result))"
   ]
  },
  {
   "cell_type": "markdown",
   "metadata": {},
   "source": [
    "---"
   ]
  },
  {
   "cell_type": "markdown",
   "metadata": {},
   "source": [
    "## N 110 : Perfect Numbers \n",
    "> An integer, n, is said to be perfect when the sum of all of the proper divisors of n is\n",
    "equal to n. For example, 28 is a perfect number because its proper divisors are 1, 2,\n",
    "4, 7 and 14, and 1 + 2 + 4 + 7 + 14 = 28.\n",
    "Write a function that determines whether or not a positive integer is perfect. Your\n",
    "function will take one parameter. If that parameter is a perfect number then your function\n",
    "will return true. Otherwise it will return false. In addition, write a main program\n",
    "that uses your function to identify and display all of the perfect numbers between 1\n",
    "and 10,000. Import your solution to Exercise 109 when completing this task.\n",
    "\n",
    "- 약수를 구하라 (divisors)\n",
    "- 함수로 구현\n",
    "    * 인자는 1개\n",
    "    * if perfect number: return True\n",
    "    * if not perfect number : return False\n",
    "    "
   ]
  },
  {
   "cell_type": "code",
   "execution_count": 1,
   "metadata": {},
   "outputs": [
    {
     "name": "stdout",
     "output_type": "stream",
     "text": [
      "Is Perfect Numeber ? :28\n"
     ]
    },
    {
     "data": {
      "text/plain": [
       "True"
      ]
     },
     "execution_count": 1,
     "metadata": {},
     "output_type": "execute_result"
    }
   ],
   "source": [
    "n = int(input('Is Perfect Numeber ? :'))\n",
    "\n",
    "# for i in range(1, n + 1):\n",
    "#     if n % i == 0:\n",
    "#         print(i , end =\" \")\n",
    "        \n",
    "def is_perfect(n):\n",
    "    total = 0\n",
    "    \n",
    "    for i in range(1, n + 1):\n",
    "        if n % i == 0:\n",
    "            total += i\n",
    "    \n",
    "    if total/2 == n :\n",
    "        return True\n",
    "    else: \n",
    "        return False\n",
    "    \n",
    "    \n",
    "is_perfect(n)"
   ]
  },
  {
   "cell_type": "markdown",
   "metadata": {},
   "source": [
    "---"
   ]
  },
  {
   "cell_type": "markdown",
   "metadata": {},
   "source": [
    "## N 113 : Formatting a List\n",
    "> When writing out a list of items in English, one normally separates the items with\n",
    "commas. In addition, theword “and” is normally included before the last item, unless\n",
    "the list only contains one item. Consider the following four lists:\n",
    "- apples\n",
    "- apples and oranges\n",
    "- apples, oranges and bananas\n",
    "- apples, oranges, bananas and lemons\n",
    "\n",
    "> Write a function that takes a list of strings as its only parameter. Your function\n",
    "should return a string that contains all of the items in the list formatted in the manner\n",
    "described previously as its only result. While the examples shown previously only\n",
    "include lists containing four elements or less, your function should behave correctly\n",
    "for lists of any length. Include a main program that reads several items from the user,\n",
    "formats them by calling your function, and then displays the result returned by the\n",
    "function."
   ]
  },
  {
   "cell_type": "code",
   "execution_count": 11,
   "metadata": {},
   "outputs": [
    {
     "name": "stdout",
     "output_type": "stream",
     "text": [
      "apple orange bananas lemons\n"
     ]
    },
    {
     "data": {
      "text/plain": [
       "'apple,orange,bananas,and lemons'"
      ]
     },
     "execution_count": 11,
     "metadata": {},
     "output_type": "execute_result"
    }
   ],
   "source": [
    "n = list(input().split(' '))\n",
    "\n",
    "def my_fruit(fruit):\n",
    "    fruit[-1] = 'and '+fruit[-1]\n",
    "    return ','.join(fruit)\n",
    "        \n",
    "\n",
    "my_fruit(n)"
   ]
  },
  {
   "cell_type": "markdown",
   "metadata": {},
   "source": [
    "---"
   ]
  },
  {
   "cell_type": "markdown",
   "metadata": {},
   "source": [
    "## N 114 : Random Lottery Numbers\n",
    "> In order to win the top prize in a particular lottery, one must match all 6 numbers\n",
    "on his or her ticket to the 6 numbers between 1 and 49 that are drawn by the lottery\n",
    "organizer. Write a program that generates a random selection of 6 numbers for a lottery ticket. Ensure that the 6 numbers selected do not contain any duplicates.\n",
    "Display the numbers in ascending order.\n",
    "\n",
    "- 1~ 49 사이의 6개의 랜덤 숫자 선택\n",
    "- 랜덤 숫자 중복 ㄴㄴ \n",
    "- output : 오름차순"
   ]
  },
  {
   "cell_type": "code",
   "execution_count": 13,
   "metadata": {},
   "outputs": [],
   "source": [
    "import random"
   ]
  },
  {
   "cell_type": "code",
   "execution_count": 18,
   "metadata": {},
   "outputs": [
    {
     "data": {
      "text/plain": [
       "[14, 18, 11, 5, 6, 25]"
      ]
     },
     "execution_count": 18,
     "metadata": {},
     "output_type": "execute_result"
    }
   ],
   "source": [
    "def jackpot():\n",
    "    return random.sample(range(1, 49),6)\n",
    "\n",
    "jackpot()"
   ]
  },
  {
   "cell_type": "markdown",
   "metadata": {},
   "source": [
    "---"
   ]
  },
  {
   "cell_type": "markdown",
   "metadata": {},
   "source": [
    "## N 134 : Unique Characters\n",
    "> Create a program that determines and displays the number of unique characters in a\n",
    "string entered by the user. For example, Hello, World! has 10 unique characters\n",
    "whilezzzhas only one unique character. Use a dictionary or set to solve this problem."
   ]
  },
  {
   "cell_type": "code",
   "execution_count": 24,
   "metadata": {},
   "outputs": [
    {
     "name": "stdout",
     "output_type": "stream",
     "text": [
      "hello, wolrd!\n"
     ]
    },
    {
     "data": {
      "text/plain": [
       "10"
      ]
     },
     "execution_count": 24,
     "metadata": {},
     "output_type": "execute_result"
    }
   ],
   "source": [
    "s = input()\n",
    "\n",
    "unique= {}\n",
    "\n",
    "for i in s:\n",
    "    unique[i] = i\n",
    "\n",
    "# print(unique)\n",
    "len(unique)\n"
   ]
  },
  {
   "cell_type": "markdown",
   "metadata": {},
   "source": [
    "---"
   ]
  },
  {
   "cell_type": "markdown",
   "metadata": {},
   "source": [
    "## N 135 : Anagrams\n",
    "> Two words are anagrams if they contain all of the same letters, but in a different\n",
    "order. For example, “evil” and “live” are anagrams because each contains one e, one\n",
    "i, one l, and one v. Create a program that reads two strings from the user, determines\n",
    "whether or not they are anagrams, and reports the result.\n",
    "\n",
    "- anagrams : string 의 순서는 달라도 글자 하나하나 같은면 anagrams"
   ]
  },
  {
   "cell_type": "code",
   "execution_count": 28,
   "metadata": {},
   "outputs": [
    {
     "name": "stdout",
     "output_type": "stream",
     "text": [
      "evil\n",
      "live\n"
     ]
    },
    {
     "data": {
      "text/plain": [
       "'anagrams'"
      ]
     },
     "execution_count": 28,
     "metadata": {},
     "output_type": "execute_result"
    }
   ],
   "source": [
    "a = input()\n",
    "b = input()\n",
    "\n",
    "def anagrams(a, b):\n",
    "    i = sorted(a)\n",
    "    j = sorted(b)\n",
    "    if i == j:\n",
    "        return 'anagrams'\n",
    "    else: \n",
    "        return 'no anagrams'\n",
    "    \n",
    "anagrams(a,b)\n",
    "        "
   ]
  },
  {
   "cell_type": "code",
   "execution_count": null,
   "metadata": {},
   "outputs": [],
   "source": []
  }
 ],
 "metadata": {
  "kernelspec": {
   "display_name": "Python 3",
   "language": "python",
   "name": "python3"
  },
  "language_info": {
   "codemirror_mode": {
    "name": "ipython",
    "version": 3
   },
   "file_extension": ".py",
   "mimetype": "text/x-python",
   "name": "python",
   "nbconvert_exporter": "python",
   "pygments_lexer": "ipython3",
   "version": "3.6.5"
  }
 },
 "nbformat": 4,
 "nbformat_minor": 2
}
