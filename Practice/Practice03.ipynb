{
 "cells": [
  {
   "cell_type": "markdown",
   "metadata": {},
   "source": [
    "## Soojung"
   ]
  },
  {
   "cell_type": "markdown",
   "metadata": {},
   "source": [
    "## N82. Taxi Fare \n",
    "> In a particular jurisdiction, taxi fares consist of a base fare of $4.00, plus $0.25\n",
    "for every 140 meters traveled. Write a function that takes the distance traveled (in\n",
    "kilometers) as its only parameter and returns the total fare as its only result. Write a\n",
    "main program that demonstrates the function.\n",
    "\n",
    "- base : 4\n",
    "- plus : 0.25 per 140 meters\n",
    "- input : meter / output: total fare"
   ]
  },
  {
   "cell_type": "code",
   "execution_count": 5,
   "metadata": {},
   "outputs": [
    {
     "name": "stdout",
     "output_type": "stream",
     "text": [
      "calculate fare, enter the meter : 300\n"
     ]
    },
    {
     "data": {
      "text/plain": [
       "4.5"
      ]
     },
     "execution_count": 5,
     "metadata": {},
     "output_type": "execute_result"
    }
   ],
   "source": [
    "base = 4\n",
    "\n",
    "def fare(meter):\n",
    "    global base\n",
    "    base += (meter//140) * 0.25\n",
    "    return base\n",
    "\n",
    "  \n",
    "fare(int(input('calculate fare, enter the meter : ')))"
   ]
  },
  {
   "cell_type": "markdown",
   "metadata": {},
   "source": [
    "---"
   ]
  },
  {
   "cell_type": "markdown",
   "metadata": {},
   "source": [
    "## N84. Median of Three Values\n",
    "> Write a function that takes three numbers as parameters, and returns the median value\n",
    "of those parameters as its result. Include a main program that reads three values from\n",
    "the user and displays their median."
   ]
  },
  {
   "cell_type": "code",
   "execution_count": 15,
   "metadata": {},
   "outputs": [
    {
     "name": "stdout",
     "output_type": "stream",
     "text": [
      "2\n",
      "5\n",
      "1\n",
      "median is  2\n"
     ]
    }
   ],
   "source": [
    "input_list = []\n",
    "\n",
    "# 3개의 입력값 list 에 넣기\n",
    "i = 0\n",
    "while i < 3:\n",
    "    n = int(input())\n",
    "    input_list.append(n)\n",
    "    i += 1\n",
    "\n",
    "#list 오름차순 정렬\n",
    "input_list.sort()\n",
    "\n",
    "print('median is ' ,input_list[1])"
   ]
  },
  {
   "cell_type": "markdown",
   "metadata": {},
   "source": [
    "---"
   ]
  },
  {
   "cell_type": "markdown",
   "metadata": {},
   "source": [
    "## N85. Convert an Integer to its Ordinal Number\n",
    ">Words like first, second and third are referred to as ordinal numbers. In this exercise,\n",
    "you will write a function that takes an integer as its only parameter and returns a\n",
    "string containing the appropriate English ordinal number as its only result. Your\n",
    "function must handle the integers between 1 and 12 (inclusive). It should return an\n",
    "empty string if a value outside of this range is provided as a parameter. Include a\n",
    "main program that demonstrates your function by displaying each integer from 1 to\n",
    "12 and its ordinal number. Your main program should only run when your file has\n",
    "not been imported into another program."
   ]
  },
  {
   "cell_type": "markdown",
   "metadata": {},
   "source": [
    "- input : integer \n",
    "- function 은 parameter 1개 \n",
    "- return 은 string ( 적절한 영어\n",
    "- 입력값은 1~12 사이이고 이외의 것은 empty string 반환\n",
    "- dict 이용해야되나?"
   ]
  },
  {
   "cell_type": "code",
   "execution_count": 6,
   "metadata": {},
   "outputs": [
    {
     "name": "stdout",
     "output_type": "stream",
     "text": [
      "8\n",
      "eighth\n"
     ]
    }
   ],
   "source": [
    "dict_ordinal = {1:\"first\", 2:\"second\", 3:\"third\", 4:\"fourth\", 5:\"fifth\", 6:\"sixth\",\n",
    "               7:\"seventh\", 8:\"eighth\", 9:\"ninth\", 10:\"tenth\", 11:\"eleventh\", 12:\"twelth\"}\n",
    "\n",
    "def ordinal_num(number):\n",
    "    if number in dict_ordinal:\n",
    "        print(dict_ordinal.get(number))\n",
    "    \n",
    "number = int(input())\n",
    "ordinal_num(number)"
   ]
  },
  {
   "cell_type": "markdown",
   "metadata": {},
   "source": [
    "---"
   ]
  },
  {
   "cell_type": "markdown",
   "metadata": {},
   "source": [
    "## N88. Is it a Valid Triangle?\n",
    "> If you have 3 straws, possibly of differing lengths, it may or may not be possible\n",
    "to lay them down so that they form a triangle when their ends are touching. For\n",
    "example, if all of the straws have a length of 6 inches. then one can easily construct\n",
    "an equilateral triangle using them. However, if one straw is 6 inches. long, while the\n",
    "other two are each only 2 inches. long, then a triangle cannot be formed. In general,\n",
    "if any one length is greater than or equal to the sum of the other two then the lengths\n",
    "cannot be used to form a triangle. Otherwise they can form a triangle.\n",
    "Write a function that determines whether or not three lengths can form a triangle.\n",
    "The function will take 3 parameters and return a Boolean result. In addition, write a\n",
    "program that reads 3 lengths from the user and demonstrates the behaviour of this\n",
    "function.\n",
    "\n",
    "- 1개의 변 >=  나머지 2개의 변의 합 --> not triangle\n",
    "- 3 parameter \n",
    "- return bool\n"
   ]
  },
  {
   "cell_type": "code",
   "execution_count": 5,
   "metadata": {},
   "outputs": [
    {
     "name": "stdout",
     "output_type": "stream",
     "text": [
      "Is it a Valid Triangle ? write the length of three!\n",
      "1st length :2\n",
      "2nd length :2\n",
      "3rd length :6\n"
     ]
    },
    {
     "data": {
      "text/plain": [
       "False"
      ]
     },
     "execution_count": 5,
     "metadata": {},
     "output_type": "execute_result"
    }
   ],
   "source": [
    "def is_Triangle(a, b, c):\n",
    "    total_sum = a + b + c\n",
    "    x = max(a,b,c)\n",
    "    other_sum = total_sum - x\n",
    "    if x >= other_sum:\n",
    "        return False\n",
    "    else:\n",
    "        return True\n",
    "\n",
    "print('Is it a Valid Triangle ? write the length of three!')\n",
    "a = int(input('1st length :'))\n",
    "b = int(input('2nd length :'))\n",
    "c = int(input('3rd length :'))\n",
    "\n",
    "\n",
    "is_Triangle(a,b,c)"
   ]
  },
  {
   "cell_type": "markdown",
   "metadata": {},
   "source": [
    "---"
   ]
  },
  {
   "cell_type": "markdown",
   "metadata": {},
   "source": [
    "## N92. Is a Number Prime?\n",
    "> A prime number is an integer greater than 1 that is only divisible by one and itself.\n",
    "Write a function that determines whether or not its parameter is prime, returning\n",
    "True if it is, and False otherwise. Write a main program that reads an integer\n",
    "from the user and displays a message indicating whether or not it is prime. Ensure\n",
    "that the main program will not run if the file containing your solution is imported\n",
    "into another program.\n",
    "\n",
    "- prime number > 1 , 약수가 자기 자신과 1밖에 없는거\n",
    "- return bool"
   ]
  },
  {
   "cell_type": "code",
   "execution_count": 9,
   "metadata": {},
   "outputs": [
    {
     "name": "stdout",
     "output_type": "stream",
     "text": [
      "7\n"
     ]
    },
    {
     "data": {
      "text/plain": [
       "True"
      ]
     },
     "execution_count": 9,
     "metadata": {},
     "output_type": "execute_result"
    }
   ],
   "source": [
    "def is_PrimeNumber(number):\n",
    "    common = []\n",
    "    for i in range(1, number+1):\n",
    "        if number % i == 0:\n",
    "            common.append(i)\n",
    "    if len(common) == 2:\n",
    "        return True\n",
    "    else:\n",
    "        return False\n",
    "\n",
    "n = int(input())\n",
    "is_PrimeNumber(n)"
   ]
  },
  {
   "cell_type": "markdown",
   "metadata": {},
   "source": [
    "---"
   ]
  },
  {
   "cell_type": "markdown",
   "metadata": {},
   "source": [
    "## N86. The Twelve Days of Christmas\n",
    "\n",
    "- "
   ]
  },
  {
   "cell_type": "code",
   "execution_count": null,
   "metadata": {},
   "outputs": [],
   "source": [
    "convert()"
   ]
  },
  {
   "cell_type": "markdown",
   "metadata": {},
   "source": [
    "---"
   ]
  },
  {
   "cell_type": "markdown",
   "metadata": {},
   "source": [
    "## N89. Capitalize It\n",
    "> Many people do not use capital letters correctly, especially when typing on small\n",
    "devices like smart phones. In this exercise, you will write a function that capitalizes\n",
    "the appropriate characters in a string. A lowercase “i” should be replaced with an\n",
    "uppercase “I” if it is both preceded and followed by a space. The first character in\n",
    "the string should also be capitalized, as well as the first non-space character after a\n",
    "“.”, “!” or “?”. For example, if the function is provided with the string “what time\n",
    "do i have to be there? what’s the address?” then it should return the string “What\n",
    "time do I have to be there? What’s the address?”. Include a main program that reads\n",
    "a string from the user, capitalizes it using your function, and displays the result.\n",
    "\n",
    "- 첫글자 : 대문자 처리\n",
    "- '.', '!', '?' 뒤에 글자 : 대문자 처리 \n",
    "-  i : 대문자 처리 "
   ]
  },
  {
   "cell_type": "code",
   "execution_count": 3,
   "metadata": {},
   "outputs": [
    {
     "name": "stdout",
     "output_type": "stream",
     "text": [
      "dd i dld\n"
     ]
    },
    {
     "data": {
      "text/plain": [
       "['Dd', 'i', 'dld']"
      ]
     },
     "execution_count": 3,
     "metadata": {},
     "output_type": "execute_result"
    }
   ],
   "source": [
    "# string 의 첫글자 무조건 대문자 처리 \n",
    "# i 가 혼자 쓰일때 (즉 주어를 나타냄) 대문자 처리 *주의* i 포함되는 단어 아님\n",
    "# 특수기호(, !,?)+ \" \" --> 대문자 처리 \n",
    "\n",
    "def correct_sentence():\n",
    "    map(lambda x:x.upper(),[\"i\"])\n",
    " \n",
    "    return words\n",
    "    \n",
    "\n",
    "# input 받을때 첫글자 대문자 처리    \n",
    "s = str.capitalize(input())\n",
    "\n",
    "words = s.split(' ')\n",
    "# print('list of word :',words )\n",
    "\n",
    "correct_sentence()\n"
   ]
  },
  {
   "cell_type": "markdown",
   "metadata": {},
   "source": [
    "#### exercise "
   ]
  },
  {
   "cell_type": "code",
   "execution_count": 14,
   "metadata": {},
   "outputs": [
    {
     "name": "stdout",
     "output_type": "stream",
     "text": [
      "asdf asdf\n"
     ]
    },
    {
     "data": {
      "text/plain": [
       "'Asdf asdf'"
      ]
     },
     "execution_count": 14,
     "metadata": {},
     "output_type": "execute_result"
    }
   ],
   "source": [
    "#1. 첫글자 대문자 처리\n",
    "s = input()\n",
    "# str.capitalize\n",
    "str.capitalize(s)\n",
    "\n",
    "#함수로 표현 --> 굳이 할 필요 없음\n",
    "# def first_Charcter(s):\n",
    "#     s = str.capitalize(s)\n",
    "#     return s"
   ]
  },
  {
   "cell_type": "code",
   "execution_count": null,
   "metadata": {},
   "outputs": [],
   "source": [
    "#2. i 가 혼자 쓰일 때 대문자 처리\n",
    "#방법1) 공백 기준으로 list 에 넣고 i 를 찾아서 I 로 바꾼다 "
   ]
  },
  {
   "cell_type": "code",
   "execution_count": null,
   "metadata": {},
   "outputs": [],
   "source": [
    "for index, value in enumerate(animals):\n",
    "    if index == 2:\n",
    "        animals[index] = \"lion\"\n"
   ]
  }
 ],
 "metadata": {
  "kernelspec": {
   "display_name": "Python 3",
   "language": "python",
   "name": "python3"
  },
  "language_info": {
   "codemirror_mode": {
    "name": "ipython",
    "version": 3
   },
   "file_extension": ".py",
   "mimetype": "text/x-python",
   "name": "python",
   "nbconvert_exporter": "python",
   "pygments_lexer": "ipython3",
   "version": "3.6.5"
  }
 },
 "nbformat": 4,
 "nbformat_minor": 2
}
